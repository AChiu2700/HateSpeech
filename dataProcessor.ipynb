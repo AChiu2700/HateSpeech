{
 "cells": [
  {
   "cell_type": "code",
   "execution_count": 1,
   "id": "ef451287",
   "metadata": {},
   "outputs": [],
   "source": [
    "# standard imports and setup\n",
    "import pandas as pd\n",
    "import numpy as np\n",
    "import matplotlib.pyplot as plt\n",
    "get_ipython().run_line_magic('matplotlib', 'inline')\n",
    "from sklearn.model_selection import train_test_split\n",
    "from imblearn.datasets import make_imbalance\n",
    "import re\n",
    "from nltk.tokenize import word_tokenize\n",
    "from nltk.stem import WordNetLemmatizer\n",
    "from nltk.corpus import stopwords"
   ]
  },
  {
   "cell_type": "code",
   "execution_count": 2,
   "id": "d12b443d",
   "metadata": {},
   "outputs": [
    {
     "data": {
      "text/plain": [
       "1    19190\n",
       "2     4163\n",
       "0     1430\n",
       "Name: class, dtype: int64"
      ]
     },
     "execution_count": 2,
     "metadata": {},
     "output_type": "execute_result"
    }
   ],
   "source": [
    "tweets_df = pd.read_csv(\"labeled_data.csv\")\n",
    "pd.set_option('display.max_rows', None)\n",
    "tweets_df = tweets_df.drop(columns = ['count', 'hate_speech', 'offensive_language', 'neither'])\n",
    "tweets_df['class'].value_counts()"
   ]
  },
  {
   "cell_type": "code",
   "execution_count": 3,
   "id": "03427aca",
   "metadata": {},
   "outputs": [
    {
     "data": {
      "text/html": [
       "<div>\n",
       "<style scoped>\n",
       "    .dataframe tbody tr th:only-of-type {\n",
       "        vertical-align: middle;\n",
       "    }\n",
       "\n",
       "    .dataframe tbody tr th {\n",
       "        vertical-align: top;\n",
       "    }\n",
       "\n",
       "    .dataframe thead th {\n",
       "        text-align: right;\n",
       "    }\n",
       "</style>\n",
       "<table border=\"1\" class=\"dataframe\">\n",
       "  <thead>\n",
       "    <tr style=\"text-align: right;\">\n",
       "      <th></th>\n",
       "      <th>Unnamed: 0</th>\n",
       "      <th>class</th>\n",
       "      <th>tweet</th>\n",
       "    </tr>\n",
       "  </thead>\n",
       "  <tbody>\n",
       "    <tr>\n",
       "      <th>0</th>\n",
       "      <td>0</td>\n",
       "      <td>1</td>\n",
       "      <td>!!! RT @mayasolovely: As a woman you shouldn't...</td>\n",
       "    </tr>\n",
       "    <tr>\n",
       "      <th>1</th>\n",
       "      <td>1</td>\n",
       "      <td>0</td>\n",
       "      <td>!!!!! RT @mleew17: boy dats cold...tyga dwn ba...</td>\n",
       "    </tr>\n",
       "    <tr>\n",
       "      <th>2</th>\n",
       "      <td>2</td>\n",
       "      <td>0</td>\n",
       "      <td>!!!!!!! RT @UrKindOfBrand Dawg!!!! RT @80sbaby...</td>\n",
       "    </tr>\n",
       "    <tr>\n",
       "      <th>3</th>\n",
       "      <td>3</td>\n",
       "      <td>0</td>\n",
       "      <td>!!!!!!!!! RT @C_G_Anderson: @viva_based she lo...</td>\n",
       "    </tr>\n",
       "    <tr>\n",
       "      <th>4</th>\n",
       "      <td>4</td>\n",
       "      <td>0</td>\n",
       "      <td>!!!!!!!!!!!!! RT @ShenikaRoberts: The shit you...</td>\n",
       "    </tr>\n",
       "  </tbody>\n",
       "</table>\n",
       "</div>"
      ],
      "text/plain": [
       "   Unnamed: 0  class                                              tweet\n",
       "0           0      1  !!! RT @mayasolovely: As a woman you shouldn't...\n",
       "1           1      0  !!!!! RT @mleew17: boy dats cold...tyga dwn ba...\n",
       "2           2      0  !!!!!!! RT @UrKindOfBrand Dawg!!!! RT @80sbaby...\n",
       "3           3      0  !!!!!!!!! RT @C_G_Anderson: @viva_based she lo...\n",
       "4           4      0  !!!!!!!!!!!!! RT @ShenikaRoberts: The shit you..."
      ]
     },
     "execution_count": 3,
     "metadata": {},
     "output_type": "execute_result"
    }
   ],
   "source": [
    "tweets_df['class'] = tweets_df['class'].replace(to_replace = 1, value = 0)\n",
    "tweets_df['class'] = tweets_df['class'].replace(to_replace = 2, value = 1)\n",
    "tweets_df.head()"
   ]
  },
  {
   "cell_type": "code",
   "execution_count": 4,
   "id": "3488c219",
   "metadata": {},
   "outputs": [
    {
     "data": {
      "text/plain": [
       "0    20620\n",
       "1     4163\n",
       "Name: class, dtype: int64"
      ]
     },
     "execution_count": 4,
     "metadata": {},
     "output_type": "execute_result"
    }
   ],
   "source": [
    "tweets_df['class'].value_counts()"
   ]
  },
  {
   "cell_type": "code",
   "execution_count": 5,
   "id": "50f465c0",
   "metadata": {},
   "outputs": [],
   "source": [
    "# Separate Data\n",
    "X = tweets_df.drop(['class'],axis=1)\n",
    "y = tweets_df['class']\n",
    "X_train, X_test, y_train, y_test = train_test_split(X,y)\n",
    "\n",
    "# Data balancing\n",
    "X_train_1 = tweets_df.drop(['class'],axis=1)\n",
    "y_train_1 = tweets_df['class']\n",
    "X_train, y_train = make_imbalance(X_train_1, y_train_1, sampling_strategy={0: 4163, 1: 4163},random_state=14)"
   ]
  },
  {
   "cell_type": "code",
   "execution_count": 6,
   "id": "dba1f2c1",
   "metadata": {},
   "outputs": [
    {
     "data": {
      "text/plain": [
       "8326"
      ]
     },
     "execution_count": 6,
     "metadata": {},
     "output_type": "execute_result"
    }
   ],
   "source": [
    "len(X_train) #8326\n",
    "len(y_train) #8326"
   ]
  },
  {
   "cell_type": "code",
   "execution_count": 7,
   "id": "d1fcec7f",
   "metadata": {},
   "outputs": [
    {
     "data": {
      "text/html": [
       "<div>\n",
       "<style scoped>\n",
       "    .dataframe tbody tr th:only-of-type {\n",
       "        vertical-align: middle;\n",
       "    }\n",
       "\n",
       "    .dataframe tbody tr th {\n",
       "        vertical-align: top;\n",
       "    }\n",
       "\n",
       "    .dataframe thead th {\n",
       "        text-align: right;\n",
       "    }\n",
       "</style>\n",
       "<table border=\"1\" class=\"dataframe\">\n",
       "  <thead>\n",
       "    <tr style=\"text-align: right;\">\n",
       "      <th></th>\n",
       "      <th>class</th>\n",
       "      <th>tweet</th>\n",
       "    </tr>\n",
       "  </thead>\n",
       "  <tbody>\n",
       "    <tr>\n",
       "      <th>0</th>\n",
       "      <td>0</td>\n",
       "      <td>RT @joytooawesome: @gorgeouss_kee @vintage_mon...</td>\n",
       "    </tr>\n",
       "    <tr>\n",
       "      <th>1</th>\n",
       "      <td>0</td>\n",
       "      <td>CNT nobody be mad at who he choose to be with ...</td>\n",
       "    </tr>\n",
       "    <tr>\n",
       "      <th>2</th>\n",
       "      <td>0</td>\n",
       "      <td>I'll be a bitch if I have to. I don't like to ...</td>\n",
       "    </tr>\n",
       "    <tr>\n",
       "      <th>3</th>\n",
       "      <td>0</td>\n",
       "      <td>@kieffer_jason ha bitch who angry bitch am tal...</td>\n",
       "    </tr>\n",
       "    <tr>\n",
       "      <th>4</th>\n",
       "      <td>0</td>\n",
       "      <td>@Dre_thinks lol lil bitch</td>\n",
       "    </tr>\n",
       "  </tbody>\n",
       "</table>\n",
       "</div>"
      ],
      "text/plain": [
       "   class                                              tweet\n",
       "0      0  RT @joytooawesome: @gorgeouss_kee @vintage_mon...\n",
       "1      0  CNT nobody be mad at who he choose to be with ...\n",
       "2      0  I'll be a bitch if I have to. I don't like to ...\n",
       "3      0  @kieffer_jason ha bitch who angry bitch am tal...\n",
       "4      0                          @Dre_thinks lol lil bitch"
      ]
     },
     "execution_count": 7,
     "metadata": {},
     "output_type": "execute_result"
    }
   ],
   "source": [
    "tweets_df = pd.DataFrame()\n",
    "tweets_df.insert(0, 'class', y_train)\n",
    "tweets_df.insert(1, 'tweet', X_train['tweet'])\n",
    "tweets_df.to_csv('dataPreprocessing.csv', index=False)\n",
    "tweets_df.head()"
   ]
  },
  {
   "cell_type": "code",
   "execution_count": 8,
   "id": "3ebaaf29",
   "metadata": {},
   "outputs": [],
   "source": [
    "import re\n",
    "from nltk.tokenize import word_tokenize\n",
    "from nltk.corpus import stopwords\n",
    "stop_words = set(stopwords.words('english'))\n",
    "# Process data\n",
    "\n",
    "def data_processing(tweet):\n",
    "    #tweet=re.sub(\"[&#]\",'', tweet, flags = re.MULTILINE)\n",
    "    tweet=re.sub(\":\",'',tweet)\n",
    "    tweet=re.sub(\";\",'',tweet)\n",
    "    \n",
    "    #remove Digits\n",
    "    tweet=re.sub(\"(\\s)\\d+(\\s)\", \"\\1\\2\", tweet)\n",
    "    #remove Links\n",
    "    tweet=re.sub('http[s]?://\\S+', '', tweet)\n",
    "    \n",
    "    #remove @user\n",
    "    tweet=re.sub(r'(\\s)?@\\w+', r'\\1',tweet)\n",
    "    #remove Emojis\n",
    "    tweet=re.sub(r'(\\s)?&#\\w+', r'\\1',tweet)\n",
    "    tweet_tokens = word_tokenize(tweet)\n",
    "    filtered_tweets = [w for w in tweet_tokens if not w in stop_words]\n",
    "    return \" \".join(filtered_tweets)"
   ]
  },
  {
   "cell_type": "code",
   "execution_count": 9,
   "id": "0c3fbdc1",
   "metadata": {},
   "outputs": [],
   "source": [
    "tweets_df.tweet = tweets_df['tweet'].apply(data_processing)\n",
    "tweets_df.to_csv('dataPreprocessingFilter.csv', index=False)"
   ]
  },
  {
   "cell_type": "code",
   "execution_count": null,
   "id": "b1258455",
   "metadata": {},
   "outputs": [],
   "source": []
  }
 ],
 "metadata": {
  "kernelspec": {
   "display_name": "Python 3 (ipykernel)",
   "language": "python",
   "name": "python3"
  },
  "language_info": {
   "codemirror_mode": {
    "name": "ipython",
    "version": 3
   },
   "file_extension": ".py",
   "mimetype": "text/x-python",
   "name": "python",
   "nbconvert_exporter": "python",
   "pygments_lexer": "ipython3",
   "version": "3.8.12"
  }
 },
 "nbformat": 4,
 "nbformat_minor": 5
}
